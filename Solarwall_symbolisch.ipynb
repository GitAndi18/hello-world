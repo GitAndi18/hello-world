{
 "cells": [
  {
   "cell_type": "markdown",
   "metadata": {},
   "source": [
    "# Übung 4 - P6 / Theoretische Bauphysik\n",
    "\n",
    "## <div style=\"text-align: right\"> *Andreas Beck* </div>\n",
    "\n",
    "Es soll der Strahlungsdurchgriff durch eine Solarwand berechnet werden. Eingabegrößen, Systemeigenschaften und die symbolische Lösung des Gleichungssystems sind im folgenden beschrieben."
   ]
  },
  {
   "cell_type": "markdown",
   "metadata": {},
   "source": [
    "### 1. Schritte nachvollziehen und das Ergebnis verstehen"
   ]
  },
  {
   "cell_type": "markdown",
   "metadata": {},
   "source": [
    "Untersuchtes System : wie in der Vorlesung behandelt.\n",
    "\n",
    "Hinweis zur Beschriftung: Die $\\Delta$s habe ich weggelassen;-)!\n",
    "\n",
    "![grafik.png](grafik_beck1.png)"
   ]
  },
  {
   "cell_type": "code",
   "execution_count": 4,
   "metadata": {},
   "outputs": [
    {
     "data": {
      "image/png": "[encoded data removed]",
      "text/latex": [
       "$$\\left\\{\\left ( \\frac{1}{r w_{11} - w_{12}} \\left(T_{e} + q_{s} r\\right) \\left(w_{11} w_{22} - w_{12} w_{21}\\right), \\quad \\frac{w_{11} \\left(T_{e} + q_{s} r\\right)}{r w_{11} - w_{12}}, \\quad \\frac{T_{e} w_{11} + q_{s} w_{12}}{r w_{11} - w_{12}}, \\quad - \\frac{w_{12} \\left(T_{e} + q_{s} r\\right)}{r w_{11} - w_{12}}\\right )\\right\\}$$"
      ],
      "text/plain": [
       "⎧⎛(Tₑ + qₛ⋅r)⋅(w₁₁⋅w₂₂ - w₁₂⋅w₂₁)  w₁₁⋅(Tₑ + qₛ⋅r)  Tₑ⋅w₁₁ + qₛ⋅w₁₂  -w₁₂⋅(Tₑ \n",
       "⎨⎜───────────────────────────────, ───────────────, ───────────────, ─────────\n",
       "⎩⎝          r⋅w₁₁ - w₁₂              r⋅w₁₁ - w₁₂      r⋅w₁₁ - w₁₂       r⋅w₁₁ \n",
       "\n",
       "+ qₛ⋅r) ⎞⎫\n",
       "────────⎟⎬\n",
       "- w₁₂   ⎠⎭"
      ]
     },
     "execution_count": 4,
     "metadata": {},
     "output_type": "execute_result"
    }
   ],
   "source": [
    "# Gleichungen\n",
    "from sympy import symbols, init_printing, linsolve, cosh, sinh\n",
    "\n",
    "# Pretty printing\n",
    "init_printing()\n",
    "\n",
    "q_r, T_e, T, r, q, q_r, q_s, w11, w12, w21, w22, q_i = symbols('q_r, T_e, T, r, q, q_r, q_s, w11, w12, w21, w22, q_i')\n",
    "\n",
    "eq1 = q_r * r - (T_e - T)\n",
    "eq2 = q - q_r - q_s\n",
    "eq3 = w11 * T + w12 * q\n",
    "eq4 = q_i - w21 * T - w22 * q\n",
    "\n",
    "equations = [eq1, eq2, eq3, eq4]\n",
    "variables = [q_i, q, q_r, T]\n",
    "\n",
    "# Hinweis: / scheint sympy nicht immer zu verstehen und det(W) = 1\n",
    "\n",
    "# Lösen\n",
    "linsolve(equations, variables)"
   ]
  },
  {
   "cell_type": "code",
   "execution_count": 5,
   "metadata": {},
   "outputs": [
    {
     "data": {
      "image/png": "[encoded data removed]",
      "text/latex": [
       "$$\\left ( \\frac{1}{r w_{11} - w_{12}} \\left(T_{e} + q_{s} r\\right) \\left(w_{11} w_{22} - w_{12} w_{21}\\right), \\quad \\frac{w_{11} \\left(T_{e} + q_{s} r\\right)}{r w_{11} - w_{12}}, \\quad \\frac{T_{e} w_{11} + q_{s} w_{12}}{r w_{11} - w_{12}}, \\quad - \\frac{w_{12} \\left(T_{e} + q_{s} r\\right)}{r w_{11} - w_{12}}\\right )$$"
      ],
      "text/plain": [
       "⎛(Tₑ + qₛ⋅r)⋅(w₁₁⋅w₂₂ - w₁₂⋅w₂₁)  w₁₁⋅(Tₑ + qₛ⋅r)  Tₑ⋅w₁₁ + qₛ⋅w₁₂  -w₁₂⋅(Tₑ +\n",
       "⎜───────────────────────────────, ───────────────, ───────────────, ──────────\n",
       "⎝          r⋅w₁₁ - w₁₂              r⋅w₁₁ - w₁₂      r⋅w₁₁ - w₁₂       r⋅w₁₁ -\n",
       "\n",
       " qₛ⋅r) ⎞\n",
       "───────⎟\n",
       " w₁₂   ⎠"
      ]
     },
     "execution_count": 5,
     "metadata": {},
     "output_type": "execute_result"
    }
   ],
   "source": [
    "# Get the unique solution out of the solutions Set\n",
    "solution, = linsolve(equations, variables)\n",
    "solution"
   ]
  },
  {
   "cell_type": "code",
   "execution_count": 6,
   "metadata": {},
   "outputs": [
    {
     "data": {
      "image/png": "[encoded data removed]",
      "text/latex": [
       "$$\\frac{1}{r w_{11} - w_{12}} \\left(T_{e} + q_{s} r\\right) \\left(w_{11} w_{22} - w_{12} w_{21}\\right)$$"
      ],
      "text/plain": [
       "(Tₑ + qₛ⋅r)⋅(w₁₁⋅w₂₂ - w₁₂⋅w₂₁)\n",
       "───────────────────────────────\n",
       "          r⋅w₁₁ - w₁₂          "
      ]
     },
     "execution_count": 6,
     "metadata": {},
     "output_type": "execute_result"
    }
   ],
   "source": [
    "# Get the solution for q_i (the first one in tuple)\n",
    "q_i = solution[0]\n",
    "q_i"
   ]
  },
  {
   "cell_type": "code",
   "execution_count": 7,
   "metadata": {},
   "outputs": [
    {
     "data": {
      "image/png": "[encoded data removed]",
      "text/latex": [
       "$$\\frac{T_{e} + q_{s} r}{r w_{11} - w_{12}}$$"
      ],
      "text/plain": [
       " Tₑ + qₛ⋅r \n",
       "───────────\n",
       "r⋅w₁₁ - w₁₂"
      ]
     },
     "execution_count": 7,
     "metadata": {},
     "output_type": "execute_result"
    }
   ],
   "source": [
    "q_i = q_i.subs({(w11*w22 - w12*w21): 1}) # det(W) is 1\n",
    "q_i"
   ]
  },
  {
   "cell_type": "code",
   "execution_count": 8,
   "metadata": {},
   "outputs": [
    {
     "data": {
      "image/png": "[encoded data removed]",
      "text/latex": [
       "$$\\frac{T_{e} + q_{s} r}{r \\cosh{\\left (\\frac{d}{\\sigma} \\left(1.0 + 1.0 i\\right) \\right )} + \\frac{\\sigma \\sinh{\\left (\\frac{d}{\\sigma} \\left(1.0 + 1.0 i\\right) \\right )}}{\\lambda \\left(1.0 + 1.0 i\\right)}}$$"
      ],
      "text/plain": [
       "                    Tₑ + qₛ⋅r                    \n",
       "─────────────────────────────────────────────────\n",
       "                                ⎛d⋅(1.0 + 1.0⋅ⅈ)⎞\n",
       "                          σ⋅sinh⎜───────────────⎟\n",
       "      ⎛d⋅(1.0 + 1.0⋅ⅈ)⎞         ⎝       σ       ⎠\n",
       "r⋅cosh⎜───────────────⎟ + ───────────────────────\n",
       "      ⎝       σ       ⎠       λ⋅(1.0 + 1.0⋅ⅈ)    "
      ]
     },
     "execution_count": 8,
     "metadata": {},
     "output_type": "execute_result"
    }
   ],
   "source": [
    "z, sigma, lam, d = symbols('z sigma lambda d')\n",
    "q_i = q_i.subs({\n",
    "    w11: cosh(z),\n",
    "    w12: -1/((1 + 1j)*lam/sigma)*sinh(z),\n",
    "    z:d/sigma*(1+1j)\n",
    "})\n",
    "q_i"
   ]
  },
  {
   "cell_type": "code",
   "execution_count": 9,
   "metadata": {},
   "outputs": [
    {
     "name": "stdout",
     "output_type": "stream",
     "text": [
      "q_i = 41.3 W/m²\n"
     ]
    }
   ],
   "source": [
    "q_i_value = abs(q_i).evalf(subs = {\n",
    "    T_e: 10,\n",
    "    q_s: 200,\n",
    "    r: 0.33,\n",
    "    sigma: 0.15,\n",
    "    d: 0.3,\n",
    "    lam:0.5}) # Evaluate q_i without changing its expression\n",
    "\n",
    "print('q_i = %.1f W/m²' % q_i_value)"
   ]
  },
  {
   "cell_type": "code",
   "execution_count": 10,
   "metadata": {},
   "outputs": [
    {
     "data": {
      "image/png": "[encoded data removed]",
      "text/plain": [
       "<matplotlib.figure.Figure at 0x8121b38>"
      ]
     },
     "metadata": {},
     "output_type": "display_data"
    }
   ],
   "source": [
    "import pylab\n",
    "import numpy as np\n",
    "from pylab import figure, axes, pie, title, show\n",
    "\n",
    "fig = figure(1, figsize=(8, 6))\n",
    "T_e = 10\n",
    "q_s = 200\n",
    "r = 0.33\n",
    "sigma = 0.15\n",
    "lam = 0.5\n",
    "d = np.linspace(0.2, 0.5, 50)\n",
    "arg = d/sigma*(1 + 1j)\n",
    "z = d/sigma\n",
    "w11 = np.cosh(arg)\n",
    "w12 = - 1/((1 + 1j)*lam/sigma)*np.sinh(arg)\n",
    "\n",
    "q_i = np.abs((T_e + q_s*r)/(r*w11 - w12))\n",
    "\n",
    "pylab.plot(z, q_i, 'b-')\n",
    "pylab.grid(True)\n",
    "pylab.ylabel('$q_{i} / \\, W/m^{2}$')\n",
    "pylab.xlabel('$z = d/\\sigma$')\n",
    "pylab.show()"
   ]
  },
  {
   "cell_type": "markdown",
   "metadata": {},
   "source": [
    "### 2. Man berechne die Temperatur auf der Außenwandoberfläche und stelle diese in einem Plot dar."
   ]
  },
  {
   "cell_type": "markdown",
   "metadata": {},
   "source": [
    "### 3. Man erweitere das Modell durch Hinzufügen eines Kondensators mit adiabatem Abschluss (s.u.), nehme einen sinnvollen Wert an und berechne die Innentemperaturamplitude."
   ]
  },
  {
   "cell_type": "markdown",
   "metadata": {},
   "source": [
    "![grafik_beck2.png](grafik_beck2.png)"
   ]
  },
  {
   "cell_type": "markdown",
   "metadata": {},
   "source": [
    "Nun eure Ergebnisse;-)"
   ]
  },
  {
   "cell_type": "code",
   "execution_count": null,
   "metadata": {
    "collapsed": true
   },
   "outputs": [],
   "source": []
  }
 ],
 "metadata": {
  "kernelspec": {
   "display_name": "Python 3",
   "language": "python",
   "name": "python3"
  },
  "language_info": {
   "codemirror_mode": {
    "name": "ipython",
    "version": 3
   },
   "file_extension": ".py",
   "mimetype": "text/x-python",
   "name": "python",
   "nbconvert_exporter": "python",
   "pygments_lexer": "ipython3",
   "version": "3.6.1"
  }
 },
 "nbformat": 4,
 "nbformat_minor": 2
}
